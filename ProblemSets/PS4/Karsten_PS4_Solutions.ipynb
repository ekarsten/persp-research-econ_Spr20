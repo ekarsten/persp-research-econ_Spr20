{
 "cells": [
  {
   "cell_type": "markdown",
   "metadata": {},
   "source": [
    "# Eric Karsten PSET 4 Solutions"
   ]
  },
  {
   "cell_type": "markdown",
   "metadata": {
    "collapsed": true
   },
   "source": [
    "## 1. Feasible Function\n",
    "\n",
    "Using the calibration from Section 2.6, write a Python function named `feasible()` that has the following form\n",
    "\n",
    "    b_constr, c_cnstr, K_cnstr = feasible(f_params, bvec_guess)\n",
    "\n",
    "where the inputs are a tuple `f_params = (nvec, A, alpha, delta)` and a guess for the steady statat savings vector `bvec_guess = np.array([scalar, scalar]`. The outputs should be Boolean vectors of lengths 2, 3, 1 respectively. `K_cnstr` should be True if $K \\leq 0$. `c_cnstr` should be a length-3 boolean vector in which the $s$ element is True if $c_s \\leq 0$. And `b_cnstr` denotes which element of the `bvec_guess` is most likely responsible for violations in `c_cnstr`. If the first element of `c_cnstr` is True, first elemet of `b_cnstr` is True. If the second element of `c_cnstr` is true, then both elements of `b_cnstr` are True. If the last element of `c_cnstr` is True, then the last element of `b_cnstr` is True."
   ]
  },
  {
   "cell_type": "code",
   "execution_count": 1,
   "metadata": {},
   "outputs": [],
   "source": [
    "import numpy as np\n",
    "import scipy.optimize as opt\n",
    "import scipy.interpolate as intpl\n",
    "import matplotlib.pyplot as plt\n",
    "\n",
    "# Parameter Setup\n",
    "beta = 0.442\n",
    "delta = 0.6415\n",
    "sigma = 3\n",
    "A = 1\n",
    "alpha = 0.35\n",
    "L = 2.2\n",
    "\n",
    "f_params_init = (3, A, alpha, delta)\n",
    "\n",
    "def feasible(f_params, bvec_guess):\n",
    "    nvec, A_loc, alpha_loc, delta_loc = f_params\n",
    "    b_2, b_3 = bvec_guess\n",
    "    \n",
    "    K = b_2 + b_3\n",
    "    L = 2.2\n",
    "    r = alpha_loc * A_loc * (L / K)**(1-alpha_loc) - delta_loc  \n",
    "    w = (1 - alpha_loc) * A_loc * (K / L)**alpha_loc\n",
    "    \n",
    "    c_1 = w - b_2\n",
    "    c_2 = w + (1 + r) * b_2 - b_3\n",
    "    c_3 = 0.2 * w + (1 + r) * b_3\n",
    "    \n",
    "    K_cnstr = K <= 0\n",
    "    c_cnstr = (c_1 <= 0, c_2 <= 0, c_3 <=0)\n",
    "    b_cnstr = ((c_1 <= 0) | (c_2 <= 0),  (c_2 <= 0) | (c_3 <=0))\n",
    "    \n",
    "    return(b_cnstr, c_cnstr, K_cnstr)"
   ]
  },
  {
   "cell_type": "markdown",
   "metadata": {},
   "source": [
    "### a.\n",
    "Which, if any of the constraints is violated if you choose an initial guess for steady-state savings of `bvec_geuss = np.array([1.0, 1.2])`"
   ]
  },
  {
   "cell_type": "code",
   "execution_count": 2,
   "metadata": {},
   "outputs": [
    {
     "data": {
      "text/plain": [
       "((True, False), (True, False, False), False)"
      ]
     },
     "execution_count": 2,
     "metadata": {},
     "output_type": "execute_result"
    }
   ],
   "source": [
    "feasible(f_params_init, np.array([1.0, 1.2]))"
   ]
  },
  {
   "cell_type": "markdown",
   "metadata": {},
   "source": [
    "We see that the first period consumption constraint is violated. "
   ]
  },
  {
   "cell_type": "markdown",
   "metadata": {},
   "source": [
    "### b.\n",
    "Which, if any, of the constraints is violated if you choose an initial guess for steady-state savings of `bvec_geuss = np.array([0.06, -0.001])`"
   ]
  },
  {
   "cell_type": "code",
   "execution_count": 3,
   "metadata": {
    "scrolled": false
   },
   "outputs": [
    {
     "data": {
      "text/plain": [
       "((False, False), (False, False, False), False)"
      ]
     },
     "execution_count": 3,
     "metadata": {},
     "output_type": "execute_result"
    }
   ],
   "source": [
    "feasible(f_params_init, np.array([0.06, -0.001]))"
   ]
  },
  {
   "cell_type": "markdown",
   "metadata": {},
   "source": [
    "No constraints are violated here."
   ]
  },
  {
   "cell_type": "markdown",
   "metadata": {},
   "source": [
    "### c.\n",
    "Which, if any, of the constraints is violated if you choose an initial guess for steady-state savings of `bvec_geuss = np.array([0.1, 0.1])`"
   ]
  },
  {
   "cell_type": "code",
   "execution_count": 4,
   "metadata": {
    "scrolled": true
   },
   "outputs": [
    {
     "data": {
      "text/plain": [
       "((False, False), (False, False, False), False)"
      ]
     },
     "execution_count": 4,
     "metadata": {},
     "output_type": "execute_result"
    }
   ],
   "source": [
    "feasible(f_params_init, np.array([0.1, 0.1]))"
   ]
  },
  {
   "cell_type": "markdown",
   "metadata": {},
   "source": [
    "It would appear that no constraints are violated here either."
   ]
  },
  {
   "cell_type": "markdown",
   "metadata": {},
   "source": [
    "## 2. Steady State Function\n",
    "\n",
    "Write a function `get_SS()` that has the following form\n",
    "\n",
    "    ss_output = get_SS(params, bvec_guess, SS_graphs)\n",
    "    \n",
    "where the inputs are a tuple of pparameters for the model\n",
    "\n",
    "    params = (beta, sigmal, nvec, L, A, alpha, delta, SS_tol)\n",
    " \n",
    "an initial guess of steady-state savings, and a Boolean indicating whether graphs should be generated for the distribution of consumption and savings. The output object `ss_output` is a Python dictionary with the steady state solution values\n",
    "\n",
    "    ss_output = {'b_ss': b_ss, 'c_ss': c_ss, 'w_ss': w_ss, 'r_ss': r_ss,\n",
    "    'K_ss': K_ss, 'Y_ss': Y_ss, 'C_ss': C_ss,\n",
    "    'EUlErr_ss': EulErr_ss, 'RCer_ss': RCerrss, 'ss_time': ss_time}\n",
    "  \n",
    "Let `ss_time` be the number of seconds to run the steady state program and `EulErr_ss` is a length-2 vector of the two Euler erros from the steady state solution given in difference form $\\beta(1 + r)u'(c_{s+1}) - u'(c_s)$. The object `RCerr_ss` is a resource constraint error which should be close to zero. It is $Y - C - \\delta K$."
   ]
  },
  {
   "cell_type": "code",
   "execution_count": 5,
   "metadata": {},
   "outputs": [],
   "source": [
    "import time\n",
    "\n",
    "params_init = (beta, sigma, 3, L, A, alpha, delta, 1e-9)\n",
    "\n",
    "def get_SS(params, bvec_guess, SS_graphs):\n",
    "    beta_loc, sigma_loc, n, L_loc, A_loc, alpha_loc, delta_loc, tol = params\n",
    "    \n",
    "    start_time = time.perf_counter()\n",
    "    \n",
    "    def r(b_2, b_3):\n",
    "        K = b_2 + b_3\n",
    "        return(alpha_loc * A_loc * (L_loc / K)**(1-alpha_loc) - delta_loc )\n",
    "    \n",
    "    def w(b_2, b_3):\n",
    "        K = b_2 + b_3\n",
    "        return((1 - alpha_loc) * A_loc * (K / L_loc) ** alpha_loc )\n",
    "        \n",
    "    def u(c):\n",
    "        return((c**(1 - sigma_loc) - 1)/(1 - sigma_loc))\n",
    "        \n",
    "    def u_p(c):\n",
    "        return(c ** (- sigma_loc))\n",
    "        \n",
    "    def error(b_g):\n",
    "        b_2_i, b_3_i = b_g\n",
    "        \n",
    "        w_loc = w(b_2_i, b_3_i)\n",
    "        r_loc = r(b_2_i, b_3_i)\n",
    "        \n",
    "        err_1 = u_p(w_loc - b_2_i) - beta_loc * (1 + r_loc) * u_p(w_loc + (1 + r_loc) * b_2_i - b_3_i)\n",
    "        err_2 = u_p(w_loc + (1 + r_loc) * b_2_i - b_3_i) - beta_loc * (1 + r_loc) * u_p((1 + r_loc) * b_3_i + 0.2 * w_loc)\n",
    "        return([err_1, err_2])\n",
    "    \n",
    "    def error_scalar(b_g):\n",
    "        e_1, e_2 = error(b_g)\n",
    "        return(e_1 ** 2 + e_2 ** 2)\n",
    "    \n",
    "    \n",
    "    results = opt.minimize(error_scalar, x0 = bvec_guess, tol = tol, method = 'Nelder-Mead')\n",
    "    b_2 , b_3 = results.x\n",
    "    w_ss = w(b_2, b_3)\n",
    "    r_ss = r(b_2, b_3)\n",
    "    c_1 = w_ss - b_2\n",
    "    c_2 = w_ss + (1 + r_ss) * b_2 - b_3\n",
    "    c_3 = 0.2 * w_ss + (1 + r_ss) * b_3\n",
    "    \n",
    "    Y = A_loc * (b_2 + b_3) ** alpha_loc * L_loc ** (1 - alpha_loc)\n",
    "\n",
    "    ss_output = {\n",
    "        'b_ss': (b_2, b_3),\n",
    "        'c_ss': (c_1, c_2, c_3),\n",
    "        'w_ss': w_ss,\n",
    "        'r_ss': r_ss,\n",
    "        'K_ss': b_2 + b_3,\n",
    "        'Y_ss': Y,\n",
    "        'C_ss': c_1 + c_2 + c_3,\n",
    "        'EUlErr_ss': error(results.x),\n",
    "        'RCer_ss': Y - c_1 - c_2 - c_3 - delta_loc * (b_2 + b_3),\n",
    "        'ss_time': time.perf_counter() - start_time}\n",
    "    \n",
    "    if SS_graphs:\n",
    "        plt.plot((1,2, 3), (c_1, c_2, c_3), label='Consumption')\n",
    "        plt.plot((2, 3), (b_2, b_3), label='Savings')\n",
    "        plt.title('Steady State Consumption and Savings');\n",
    "        plt.xlabel('Period');\n",
    "        plt.legend();\n",
    "        \n",
    "    return(ss_output)\n"
   ]
  },
  {
   "cell_type": "markdown",
   "metadata": {},
   "source": [
    "### a.\n",
    "Solve numerically for the steady state and list those values. Also time the function."
   ]
  },
  {
   "cell_type": "code",
   "execution_count": 6,
   "metadata": {},
   "outputs": [
    {
     "data": {
      "text/plain": [
       "{'b_ss': (0.019312529972129372, 0.05841109607812074),\n",
       " 'c_ss': (0.1824121276882676, 0.2096146807553314, 0.24087386521881682),\n",
       " 'w_ss': 0.20172465766039696,\n",
       " 'r_ss': 2.4330623314882507,\n",
       " 'K_ss': 0.07772362605025011,\n",
       " 'Y_ss': 0.6827603797736513,\n",
       " 'C_ss': 0.6329006736624159,\n",
       " 'EUlErr_ss': [1.0674299346646876e-06, -2.53592290277993e-07],\n",
       " 'RCer_ss': 2.0816681711721685e-17,\n",
       " 'ss_time': 0.010852000000000306}"
      ]
     },
     "execution_count": 6,
     "metadata": {},
     "output_type": "execute_result"
    }
   ],
   "source": [
    "get_SS(params_init, np.array([0.1, 0.1]), False)"
   ]
  },
  {
   "cell_type": "markdown",
   "metadata": {},
   "source": [
    "### b. \n",
    "Generate a figure that shows the steady state distirbution of consumption and savings by age."
   ]
  },
  {
   "cell_type": "code",
   "execution_count": 7,
   "metadata": {
    "scrolled": false
   },
   "outputs": [
    {
     "data": {
      "image/png": "[encoded data removed]",
      "text/plain": [
       "<Figure size 432x288 with 1 Axes>"
      ]
     },
     "metadata": {
      "needs_background": "light"
     },
     "output_type": "display_data"
    }
   ],
   "source": [
    "solution = get_SS(params_init, np.array([0.1, 0.1]), True)"
   ]
  },
  {
   "cell_type": "markdown",
   "metadata": {},
   "source": [
    "### c.\n",
    "What happens to each of the steady state values if all households become more patient (say $\\beta = 0.55$)? What is the intuition of the change in consumption, savings, wage and interest rate?"
   ]
  },
  {
   "cell_type": "code",
   "execution_count": 8,
   "metadata": {
    "scrolled": false
   },
   "outputs": [
    {
     "data": {
      "text/plain": [
       "{'b_ss': (0.028176918751888803, 0.07686545078766963),\n",
       " 'c_ss': (0.19597527666990824, 0.2286159412256766, 0.2666930711647169),\n",
       " 'w_ss': 0.22415219542179704,\n",
       " 'r_ss': 1.8863765164563062,\n",
       " 'K_ss': 0.10504236953955842,\n",
       " 'Y_ss': 0.7586689691199285,\n",
       " 'C_ss': 0.6912842890603017,\n",
       " 'EUlErr_ss': [-5.968712457615766e-08, -8.78506199342155e-07],\n",
       " 'RCer_ss': 5.551115123125783e-17,\n",
       " 'ss_time': 0.007622599999999924}"
      ]
     },
     "execution_count": 8,
     "metadata": {},
     "output_type": "execute_result"
    },
    {
     "data": {
      "image/png": "[encoded data removed]",
      "text/plain": [
       "<Figure size 432x288 with 1 Axes>"
      ]
     },
     "metadata": {
      "needs_background": "light"
     },
     "output_type": "display_data"
    }
   ],
   "source": [
    "params_experiment = (0.55, sigma, 3, L, A, alpha, delta, 1e-9)\n",
    "get_SS(params_experiment, np.array([0.1, 0.1]), True)"
   ]
  },
  {
   "cell_type": "markdown",
   "metadata": {},
   "source": [
    "We see that when people become more patient, steady state consumption increases in later periods while falling slightly in earlier periods, savings incease in both periods. The steady state interest rate falls while the steady state wage rises. Intuitively, the changes in consumption make sense pecause people becoming more patient means that they should want to consume more in the future and thus will save more. Because the value of later consumption has increased, the rising wage is attributable to more demand (since labor if fixed in our model), and the rising interest rate is necessary for borrowing markets to clear between the periods."
   ]
  },
  {
   "cell_type": "markdown",
   "metadata": {},
   "source": [
    "## 3. Time Path Iteration\n",
    "\n",
    "Use TPI to solve for the non-steady state equilibrium transition path of the economy from `(0.8 \\bar b_2, 1.1 \\bar b_3)` to the steady state. Choose some guess for periods `T` and path updating parameter $\\xi \\in (0,1)$. Use convergence parameter of $10^{-9}$. Use a linear initial guess for the time path of capital stock."
   ]
  },
  {
   "cell_type": "code",
   "execution_count": 9,
   "metadata": {},
   "outputs": [],
   "source": [
    "T = 30\n",
    "xi = .1\n",
    "epsilon = 1e-9\n",
    "\n",
    "b_2_start = solution[\"b_ss\"][0] * 0.8\n",
    "b_3_start = solution[\"b_ss\"][1] * 1.1\n",
    "\n",
    "b_2_end = solution[\"b_ss\"][0]\n",
    "b_3_end = solution[\"b_ss\"][1]\n",
    "\n",
    "K_start = b_2_start + b_3_start\n",
    "K_end = b_2_end + b_3_end\n",
    "\n",
    "K_vec = np.linspace(K_start, K_end, T)\n",
    "K_vec = np.append(K_vec, K_end)\n",
    "\n",
    "def u_p(c):\n",
    "    return(c ** (- sigma))\n",
    "\n",
    "dist = 1\n",
    "while dist > 1e-9:\n",
    "    \n",
    "    def r(K):\n",
    "        return(alpha * A * (L / K)**(1-alpha) - delta )\n",
    "    \n",
    "    def w(K):\n",
    "        return((1 - alpha) * A * (K / L) ** alpha )\n",
    "    \n",
    "    w_vec = [w(k) for k in K_vec]\n",
    "    r_vec = [r(k) for k in K_vec]\n",
    "    \n",
    "    # Now solve for vector of savings in each period\n",
    "    # While solving for these, store the Euler errors as a vector for each\n",
    "    b_2_vec = np.zeros(T)\n",
    "    b_3_vec = np.zeros(T)\n",
    "    err_1_vec = np.zeros(T)\n",
    "    err_2_vec = np.zeros(T)\n",
    "    \n",
    "    b_2_vec[0] = b_2_start\n",
    "    b_3_vec[0] = b_3_start\n",
    "\n",
    "    for i in range(1, T + 1):\n",
    "        if i == 1:\n",
    "            def error(b_3_t_1):\n",
    "                w_t = w_vec[i - 1]\n",
    "                w_t_1 = w_vec[i]\n",
    "                \n",
    "                r_t = r_vec[i - 1]\n",
    "                r_t_1 = r_vec[i]\n",
    "                \n",
    "                b_2_t = b_2_vec[i - 1]\n",
    "                b_3_t = b_3_vec[i - 1]\n",
    "                \n",
    "                err_LHS = u_p(w_t + (1 + r_t) * b_2_t - b_3_t_1)\n",
    "                err_RHS = beta * (1 + r_t_1) * u_p((1 + r_t_1) * b_3_t_1 + 0.2 * w_t_1)\n",
    "                return abs(err_LHS - err_RHS)\n",
    "            \n",
    "            per_1_sol = opt.minimize(error, x0 = 0.1,\n",
    "                                     tol = epsilon * 1e-2, method = 'Nelder-Mead')\n",
    "            \n",
    "            b_3_vec[i] = per_1_sol.x\n",
    "            err_2_vec[i] = error(per_1_sol.x)\n",
    "        else:\n",
    "            def error(b_next):\n",
    "                b_3_t_1 , b_2_t = b_next\n",
    "                b_3_t = b_3_vec[i - 1]\n",
    "                \n",
    "                w_t_n_1 = w_vec[i - 2]\n",
    "                w_t = w_vec[i - 1]\n",
    "                w_t_1 = w_vec[i]\n",
    "                \n",
    "                r_t = r_vec[i - 1]\n",
    "                r_t_1 = r_vec[i]\n",
    "\n",
    "                err_1_LHS = u_p(w_t_n_1 - b_2_t)\n",
    "                err_1_RHS = beta * (1 + r_t) * u_p(w_t + (1 + r_t) * b_2_t - b_3_t_1)\n",
    "                \n",
    "                err_2_LHS = u_p(w_t + (1 + r_t) * b_2_t - b_3_t_1)\n",
    "                err_2_RHS = beta * (1 + r_t_1) * u_p((1 + r_t_1) * b_3_t_1 + 0.2 * w_t_1)\n",
    "                return (abs(err_1_LHS - err_1_RHS), abs(err_2_LHS - err_2_RHS))\n",
    "            \n",
    "            def error_scalar(b_next):\n",
    "                e_1, e_2 = error(b_next)\n",
    "                return(e_1 ** 2 + e_2 ** 2)\n",
    "            \n",
    "            general_sol = opt.minimize(error_scalar, x0 = [0.1, 0.1],\n",
    "                                       tol = epsilon * 1e-2, method = 'Nelder-Mead')\n",
    "            \n",
    "            if i != T:\n",
    "                b_3_vec[i], b_2_vec[i - 1] = general_sol.x\n",
    "                err_1_vec[i - 1], err_2_vec[i] = error(general_sol.x)\n",
    "            else:\n",
    "                b_2_vec[i - 1] = general_sol.x[1]\n",
    "                err_1_vec[i -1] = error(general_sol.x)[1]\n",
    "    \n",
    "    # Return K implied by savings vector\n",
    "    K_new = [a + b for a, b in zip(b_2_vec, b_3_vec)]\n",
    "    \n",
    "    # Compute distance between implied K and old K\n",
    "    K_error = [(x - y) ** 2 for x, y in zip(K_vec[0:T], K_new)]\n",
    "    \n",
    "    # Compute new K based on old one\n",
    "    K_vec = xi * np.append(K_new, K_end) + (1 - xi) * K_vec\n",
    "    dist = sum(K_error)"
   ]
  },
  {
   "cell_type": "markdown",
   "metadata": {},
   "source": [
    "### a.\n",
    "Report the maximum of the absolute values of all the Euler Errors across the entire time path. Also report the maximum absolute value of all the aggregate resource constraint errors $Y_t - C_t - K_{t+1} + (1-\\delta) K_t$ across the entire time path."
   ]
  },
  {
   "cell_type": "code",
   "execution_count": 10,
   "metadata": {},
   "outputs": [
    {
     "name": "stdout",
     "output_type": "stream",
     "text": [
      "Maximum Euler Error from first equation: 2.9085811092954827e-08\n",
      "Maximum Euler Error from second equation: 4.2970256686203356e-08\n",
      "Maximum Resource Constraint Eror 0.004328938589455118\n"
     ]
    }
   ],
   "source": [
    "# From stored Euler errors, report max of absolute value\n",
    "\n",
    "print(\"Maximum Euler Error from first equation:\", max(err_1_vec))\n",
    "print(\"Maximum Euler Error from second equation:\", max(err_2_vec))\n",
    "\n",
    "# From Solved r_vec, w_vec, K_vec, compute resource constraint errors and report highest abs\n",
    "\n",
    "Y_vec = [A * (k) ** alpha * L ** (1 - alpha) for k in K_vec[0:T]]\n",
    "\n",
    "C_vec = [w - b_2 + w + (1 + r) * b_2 - b_3 + 0.2 * w + (1 + r) * b_3 for\n",
    "         w, r, b_2, b_3 in zip(w_vec, r_vec, b_2_vec, b_3_vec)]\n",
    "\n",
    "err_vec = [y - c - k + (1-delta) * k_1 for y, c, k, k_1 in\n",
    "           zip(Y_vec, C_vec, K_vec[1:(T +1)], K_vec[0:T])]\n",
    "\n",
    "print(\"Maximum Resource Constraint Eror\", max([abs(v) for v in err_vec]))\n"
   ]
  },
  {
   "cell_type": "markdown",
   "metadata": {},
   "source": [
    "### b.\n",
    "Plot the equilibrium time paths of the aggregte capital shock, wage, and interest rate."
   ]
  },
  {
   "cell_type": "code",
   "execution_count": 11,
   "metadata": {},
   "outputs": [
    {
     "data": {
      "image/png": "[encoded data removed]",
      "text/plain": [
       "<Figure size 432x288 with 1 Axes>"
      ]
     },
     "metadata": {
      "needs_background": "light"
     },
     "output_type": "display_data"
    }
   ],
   "source": [
    "plt.plot(range(0,T), K_vec[0:T], label='Capital')    \n",
    "plt.title('Capital Transition Path');\n",
    "plt.xlabel('Period');"
   ]
  },
  {
   "cell_type": "code",
   "execution_count": 12,
   "metadata": {},
   "outputs": [
    {
     "data": {
      "image/png": "[encoded data removed]",
      "text/plain": [
       "<Figure size 432x288 with 1 Axes>"
      ]
     },
     "metadata": {
      "needs_background": "light"
     },
     "output_type": "display_data"
    }
   ],
   "source": [
    "plt.plot(range(0,T), w_vec[0:T], label='Wage')\n",
    "plt.title('Wage Transition Path');\n",
    "plt.xlabel('Period'); "
   ]
  },
  {
   "cell_type": "code",
   "execution_count": 13,
   "metadata": {
    "scrolled": true
   },
   "outputs": [
    {
     "data": {
      "image/png": "[encoded data removed]",
      "text/plain": [
       "<Figure size 432x288 with 1 Axes>"
      ]
     },
     "metadata": {
      "needs_background": "light"
     },
     "output_type": "display_data"
    }
   ],
   "source": [
    "plt.plot(range(0,T), r_vec[0:T], label='Interest Rate')\n",
    "plt.title('Interest Rate Transition Path');\n",
    "plt.xlabel('Period'); "
   ]
  },
  {
   "cell_type": "markdown",
   "metadata": {},
   "source": [
    "### c.\n",
    "How many periods did it take for the economy to get within 1e-5 of the steady-state aggregate capital stock? What is the period after which the aggregate capital stock never is again further than 1e-5 away from the steady-state?"
   ]
  },
  {
   "cell_type": "code",
   "execution_count": 14,
   "metadata": {},
   "outputs": [
    {
     "name": "stdout",
     "output_type": "stream",
     "text": [
      "First period when economy close to steady state is 3\n",
      "First period when economy permanantly close to steady state is 19\n"
     ]
    }
   ],
   "source": [
    "t = [abs(k - K_end) < 1e-5 for k in K_vec]\n",
    "true_inds = [i for i, x in enumerate(t) if x]\n",
    "false_inds = [i for i, x in enumerate(t) if not x]\n",
    "print(\"First period when economy close to steady state is\", min(true_inds) + 1)\n",
    "print(\"First period when economy permanantly close to steady state is\", max(false_inds) + 2)"
   ]
  }
 ],
 "metadata": {
  "anaconda-cloud": {},
  "kernelspec": {
   "display_name": "Python 3",
   "language": "python",
   "name": "python3"
  },
  "language_info": {
   "codemirror_mode": {
    "name": "ipython",
    "version": 3
   },
   "file_extension": ".py",
   "mimetype": "text/x-python",
   "name": "python",
   "nbconvert_exporter": "python",
   "pygments_lexer": "ipython3",
   "version": "3.7.4"
  }
 },
 "nbformat": 4,
 "nbformat_minor": 1
}
